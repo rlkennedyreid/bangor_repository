{
 "cells": [
  {
   "cell_type": "code",
   "execution_count": null,
   "metadata": {},
   "outputs": [],
   "source": [
    "HEX_SCALE = 16\n",
    "RAW_MESSAGE = \"attack at dawn\"\n",
    "ENCRYPTED_HEX = int(\"09e1c5f70a65ac519458e7e53f36\", HEX_SCALE)\n",
    "\n",
    "# Function to encode a string to 8-bit ASCII hex representation\n",
    "stringToHex = lambda x:\"\".join([hex(ord(c))[2:].zfill(2) for c in x])"
   ]
  },
  {
   "cell_type": "code",
   "execution_count": null,
   "metadata": {},
   "outputs": [],
   "source": [
    "raw_message_hex = int(stringToHex(RAW_MESSAGE), HEX_SCALE)\n",
    "\n",
    "key = raw_message_hex ^ ENCRYPTED_HEX\n",
    "\n",
    "original_message = bytes.fromhex(hex(key ^ ENCRYPTED_HEX)[2:]).decode(\"ASCII\")\n",
    "print(original_message)"
   ]
  },
  {
   "cell_type": "code",
   "execution_count": null,
   "metadata": {},
   "outputs": [],
   "source": [
    "new_message =  \"attack at dusk\"\n",
    "\n",
    "new_message_hex = int(stringToHex(new_message), HEX_SCALE)\n",
    "\n",
    "new_message_encrypted = new_message_hex ^ key\n",
    "\n",
    "print(hex(new_message_encrypted)[2:].zfill(28))"
   ]
  },
  {
   "cell_type": "code",
   "execution_count": null,
   "metadata": {},
   "outputs": [],
   "source": []
  }
 ],
 "metadata": {
  "kernelspec": {
   "display_name": "Python 3",
   "language": "python",
   "name": "python3"
  },
  "language_info": {
   "codemirror_mode": {
    "name": "ipython",
    "version": 3
   },
   "file_extension": ".py",
   "mimetype": "text/x-python",
   "name": "python",
   "nbconvert_exporter": "python",
   "pygments_lexer": "ipython3",
   "version": "3.7.6"
  }
 },
 "nbformat": 4,
 "nbformat_minor": 4
}
